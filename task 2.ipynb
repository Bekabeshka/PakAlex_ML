{
 "cells": [
  {
   "cell_type": "code",
   "execution_count": 9,
   "metadata": {},
   "outputs": [
    {
     "name": "stdout",
     "output_type": "stream",
     "text": [
      "4.362641535118072 -1.2955258656948436 0.1933368470215116 -0.008235651173320552\n"
     ]
    },
    {
     "data": {
      "image/png": "[encoded data removed]",
      "text/plain": [
       "<Figure size 432x288 with 1 Axes>"
      ]
     },
     "metadata": {},
     "output_type": "display_data"
    }
   ],
   "source": [
    "import numpy as np;\n",
    "import scipy.linalg as sl;\n",
    "import matplotlib.pyplot;\n",
    "\n",
    "def function(x):\n",
    "    return np.sin(x / 5.0) * np.exp(x / 10.0) + 5 * np.exp(-x / 2.0);\n",
    "\n",
    "A_1 = [\n",
    "    [1 ** n for n in range(2)],\n",
    "    [15 ** n for n in range(2)]\n",
    "];\n",
    "b_1 = [function(1), function(15)];\n",
    "w1 = sl.solve(A_1, b_1);\n",
    "\n",
    "A_2 = [\n",
    "    [1 ** n for n in range(3)],\n",
    "    [8 ** n for n in range(3)],\n",
    "    [15 ** n for n in range(3)]\n",
    "];\n",
    "b_2 = [function(1), function(8), function(15)];\n",
    "w2 = sl.solve(A_2, b_2);\n",
    "\n",
    "A_3 = [\n",
    "    [1 ** n for n in range(4)],\n",
    "    [4 ** n for n in range(4)],\n",
    "    [10 ** n for n in range(4)],\n",
    "    [15 ** n for n in range(4)]\n",
    "];\n",
    "w3 = b_3 = [function(1), function(4), function(10), function(15)];\n",
    "\n",
    "answer = sl.solve(A_3, b_3);\n",
    "print(answer[0], answer[1], answer[2], answer[3]);\n",
    "\n",
    "x = np.arange(0, 16, .1);\n",
    "y = function(x);\n",
    "\n",
    "matplotlib.pyplot.plot(x, y, label = 'graph')\n",
    "matplotlib.pyplot.legend()\n",
    "matplotlib.pyplot.show()"
   ]
  },
  {
   "cell_type": "code",
   "execution_count": null,
   "metadata": {},
   "outputs": [],
   "source": []
  }
 ],
 "metadata": {
  "kernelspec": {
   "display_name": "Python 3",
   "language": "python",
   "name": "python3"
  },
  "language_info": {
   "codemirror_mode": {
    "name": "ipython",
    "version": 3
   },
   "file_extension": ".py",
   "mimetype": "text/x-python",
   "name": "python",
   "nbconvert_exporter": "python",
   "pygments_lexer": "ipython3",
   "version": "3.6.5"
  }
 },
 "nbformat": 4,
 "nbformat_minor": 2
}
