{
 "cells": [
  {
   "cell_type": "code",
   "execution_count": 36,
   "metadata": {},
   "outputs": [],
   "source": [
    "import numpy as np\n",
    "from numpy import dot\n",
    "from scipy import linalg"
   ]
  },
  {
   "cell_type": "code",
   "execution_count": 37,
   "metadata": {},
   "outputs": [
    {
     "name": "stdout",
     "output_type": "stream",
     "text": [
      "4\n"
     ]
    },
    {
     "data": {
      "text/plain": [
       "array([[0.76470821, 0.509354  , 0.06782183, 0.70085404],\n",
       "       [0.15153828, 0.33412749, 0.04618659, 0.18094856],\n",
       "       [0.0421426 , 0.84696065, 0.30044144, 0.33136022],\n",
       "       [0.38549299, 0.26929959, 0.79076669, 0.60916956]])"
      ]
     },
     "execution_count": 37,
     "metadata": {},
     "output_type": "execute_result"
    }
   ],
   "source": [
    "n = int(input())\n",
    "A = np.random.rand(n, n)\n",
    "A"
   ]
  },
  {
   "cell_type": "code",
   "execution_count": 38,
   "metadata": {},
   "outputs": [],
   "source": [
    "At = A.transpose()\n",
    "W = dot(A, At)\n",
    "E, U = linalg.eig(W)"
   ]
  },
  {
   "cell_type": "code",
   "execution_count": 39,
   "metadata": {},
   "outputs": [],
   "source": [
    "E = np.diag(np.sqrt(E))\n",
    "V = At.dot(U).dot(np.linalg.inv(E))"
   ]
  },
  {
   "cell_type": "code",
   "execution_count": 40,
   "metadata": {},
   "outputs": [
    {
     "data": {
      "text/plain": [
       "array([[0.76470821+0.j, 0.509354  +0.j, 0.06782183+0.j, 0.70085404+0.j],\n",
       "       [0.15153828+0.j, 0.33412749+0.j, 0.04618659+0.j, 0.18094856+0.j],\n",
       "       [0.0421426 +0.j, 0.84696065+0.j, 0.30044144+0.j, 0.33136022+0.j],\n",
       "       [0.38549299+0.j, 0.26929959+0.j, 0.79076669+0.j, 0.60916956+0.j]])"
      ]
     },
     "execution_count": 40,
     "metadata": {},
     "output_type": "execute_result"
    }
   ],
   "source": [
    "Vt = V.transpose()\n",
    "USVt = U.dot(E).dot(Vt)\n",
    "USVt"
   ]
  }
 ],
 "metadata": {
  "kernelspec": {
   "display_name": "Python 3",
   "language": "python",
   "name": "python3"
  },
  "language_info": {
   "codemirror_mode": {
    "name": "ipython",
    "version": 3
   },
   "file_extension": ".py",
   "mimetype": "text/x-python",
   "name": "python",
   "nbconvert_exporter": "python",
   "pygments_lexer": "ipython3",
   "version": "3.6.5"
  }
 },
 "nbformat": 4,
 "nbformat_minor": 2
}
