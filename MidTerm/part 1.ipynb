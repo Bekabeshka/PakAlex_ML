{
 "cells": [
  {
   "cell_type": "code",
   "execution_count": null,
   "metadata": {},
   "outputs": [],
   "source": [
    "# векторизованная 1\n",
    "n = input('enter n ')\n",
    "m = input('enter m ')\n",
    "\n",
    "arr = []\n",
    "n = int(n)\n",
    "m = int(m)\n",
    "for i in range(n):\n",
    "    temp = []\n",
    "    for j in range(m):\n",
    "        x = int(input())\n",
    "        temp.append(x)\n",
    "    arr.append(temp)\n",
    "    \n",
    "result = 1\n",
    "for i in range(min(n, m)): \n",
    "    if arr[i][i] != 0:\n",
    "        result = result * arr[i][i]\n",
    "print (result)"
   ]
  },
  {
   "cell_type": "code",
   "execution_count": null,
   "metadata": {},
   "outputs": [],
   "source": [
    "# невекторизованная 1\n",
    "import numpy as np\n",
    "\n",
    "arr = np.array([[1, 0, 1], [2, 0, 2], [3, 0, 3], [4, 4, 4]])\n",
    "diag = arr.diagonal()\n",
    "mult = np.multiply.reduce(diag[diag != 0])\n",
    "\n",
    "print(mult)"
   ]
  },
  {
   "cell_type": "code",
   "execution_count": 9,
   "metadata": {},
   "outputs": [
    {
     "name": "stdout",
     "output_type": "stream",
     "text": [
      "5\n"
     ]
    }
   ],
   "source": [
    "# векторизованная 3\n",
    "arr = [6, 2, 0, 3, 0, 0, 5, 7, 0]\n",
    "\n",
    "maxi = 0;\n",
    "for i in range(len(arr)):\n",
    "    if i == 0: continue\n",
    "    if (maxi < arr[i] and arr[i - 1] == 0):\n",
    "        maxi = arr[i]\n",
    "        \n",
    "print(maxi)"
   ]
  },
  {
   "cell_type": "code",
   "execution_count": 2,
   "metadata": {},
   "outputs": [
    {
     "data": {
      "text/plain": [
       "5"
      ]
     },
     "execution_count": 2,
     "metadata": {},
     "output_type": "execute_result"
    }
   ],
   "source": [
    "# невекторизованная 3\n",
    "import numpy as np\n",
    "\n",
    "arr = np.array([6, 2, 0, 3, 0, 0, 5, 7, 0])\n",
    "arr[max(filter(lambda x: arr[x - 1] == 0, range(1, len(arr))))]"
   ]
  },
  {
   "cell_type": "code",
   "execution_count": 3,
   "metadata": {},
   "outputs": [
    {
     "data": {
      "text/plain": [
       "True"
      ]
     },
     "execution_count": 3,
     "metadata": {},
     "output_type": "execute_result"
    }
   ],
   "source": [
    "# невекторизованная 2\n",
    "x = np.array([1, 2, 2, 4]) \n",
    "y = np.array([4, 2, 1, 2])\n",
    "x.sort()\n",
    "y.sort()\n",
    "np.array_equal(x, y)"
   ]
  },
  {
   "cell_type": "code",
   "execution_count": 8,
   "metadata": {},
   "outputs": [
    {
     "name": "stdout",
     "output_type": "stream",
     "text": [
      "True\n"
     ]
    }
   ],
   "source": [
    "# векторизованная 2\n",
    "x = [1, 2, 2, 4]\n",
    "y = [4, 2, 1, 2]\n",
    "\n",
    "arr = [0] * 1000000\n",
    "\n",
    "for i in x:\n",
    "    arr[i] = arr[i] + 1\n",
    "for i in y:\n",
    "    arr[i] = arr[i] + 1\n",
    "\n",
    "ok = True\n",
    "for i in range(len(arr)):\n",
    "    if arr[i] % 2 != 0:\n",
    "        ok = False\n",
    "        break\n",
    "\n",
    "print(ok)"
   ]
  },
  {
   "cell_type": "code",
   "execution_count": 11,
   "metadata": {},
   "outputs": [
    {
     "name": "stdout",
     "output_type": "stream",
     "text": [
      "[2, 3, 5]\n",
      "[3, 3, 1]\n"
     ]
    }
   ],
   "source": [
    "# векторизованная 5\n",
    "x = [2, 2, 2, 3, 3, 3, 5]\n",
    "\n",
    "count = [0] * 1000000\n",
    "for i in x:\n",
    "    count[i] = count[i] + 1\n",
    "\n",
    "arr1 = []\n",
    "arr2 = []\n",
    "\n",
    "for i in range(len(count)):\n",
    "    if count[i] != 0:\n",
    "        arr1.append(i)\n",
    "        arr2.append(count[i])\n",
    "        \n",
    "print (arr1)\n",
    "print (arr2)"
   ]
  },
  {
   "cell_type": "code",
   "execution_count": 25,
   "metadata": {},
   "outputs": [
    {
     "data": {
      "text/plain": [
       "(array([2, 3, 5]), array([3, 3, 1]))"
      ]
     },
     "execution_count": 25,
     "metadata": {},
     "output_type": "execute_result"
    }
   ],
   "source": [
    "# невекторизованная 5\n",
    "import numpy as np\n",
    "x = np.array([2, 2, 2, 3, 3, 3, 5])\n",
    "\n",
    "arr = np.unique(x, return_counts = True)\n",
    "arr"
   ]
  }
 ],
 "metadata": {
  "kernelspec": {
   "display_name": "Python 3",
   "language": "python",
   "name": "python3"
  },
  "language_info": {
   "codemirror_mode": {
    "name": "ipython",
    "version": 3
   },
   "file_extension": ".py",
   "mimetype": "text/x-python",
   "name": "python",
   "nbconvert_exporter": "python",
   "pygments_lexer": "ipython3",
   "version": "3.6.5"
  }
 },
 "nbformat": 4,
 "nbformat_minor": 2
}
