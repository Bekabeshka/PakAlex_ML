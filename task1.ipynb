{
 "cells": [
  {
   "cell_type": "code",
   "execution_count": 13,
   "metadata": {},
   "outputs": [
    {
     "name": "stdout",
     "output_type": "stream",
     "text": [
      "[0.0, 0.9527544408738466, 0.8644738145642124, 0.8951715163278082, 0.7770887149698589, 0.9402385695332803, 0.7327387580875757, 0.9258750683338899, 0.8842724875284311, 0.9055088817476932, 0.8328165362273942, 0.8804771390665607, 0.8396432548525454, 0.8703592552895671, 0.8740118423302576, 0.9442721787424647, 0.8406361854220809, 0.956644501523794, 0.9442721787424647, 0.8885443574849294, 0.8427572744917122, 0.8250364469440588]\n"
     ]
    }
   ],
   "source": [
    "import scipy.spatial as ss;\n",
    "import numpy as np;\n",
    "import re;\n",
    "\n",
    "ii = 0;\n",
    "index = 0;\n",
    "matrix = [];\n",
    "word_index = {};\n",
    "distances = [];\n",
    "with open(\"sentences.txt\", \"r\") as file:\n",
    "    sentences = file.readlines();\n",
    "\n",
    "for sentence in sentences:\n",
    "    sentence = sentence.lower();\n",
    "    sentence = re.split('[^a-z]', sentence);\n",
    "    sentence = list(filter(None, sentence));\n",
    "    sentences[ii] = sentence;\n",
    "    ii += 1;\n",
    "    \n",
    "    for word in sentence:\n",
    "        if word not in word_index:\n",
    "            word_index.update({word: index});\n",
    "            index += 1;\n",
    "            \n",
    "for s_index in range(len(sentences)):\n",
    "    array = np.zeros(index + 1);\n",
    "    matrix.append(array);\n",
    "    for word in sentences[s_index]:\n",
    "        w_index = word_index[word];\n",
    "        matrix[s_index][w_index] += 1;\n",
    "        \n",
    "for i in range(len(sentences)):\n",
    "    distances.append((i, ss.distance.cosine(matrix[0], matrix[i])));\n",
    "\n",
    "print (sorted(distances, key=lambda tup: tup[1])[2][0], sorted(distances, key=lambda tup: tup[1])[1][0]);"
   ]
  },
  {
   "cell_type": "code",
   "execution_count": null,
   "metadata": {},
   "outputs": [],
   "source": []
  },
  {
   "cell_type": "code",
   "execution_count": null,
   "metadata": {},
   "outputs": [],
   "source": []
  },
  {
   "cell_type": "code",
   "execution_count": null,
   "metadata": {},
   "outputs": [],
   "source": []
  }
 ],
 "metadata": {
  "kernelspec": {
   "display_name": "Python 3",
   "language": "python",
   "name": "python3"
  },
  "language_info": {
   "codemirror_mode": {
    "name": "ipython",
    "version": 3
   },
   "file_extension": ".py",
   "mimetype": "text/x-python",
   "name": "python",
   "nbconvert_exporter": "python",
   "pygments_lexer": "ipython3",
   "version": "3.6.5"
  }
 },
 "nbformat": 4,
 "nbformat_minor": 2
}
